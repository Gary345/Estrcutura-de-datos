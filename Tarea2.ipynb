{
  "nbformat": 4,
  "nbformat_minor": 0,
  "metadata": {
    "colab": {
      "name": "Tarea2.ipynb",
      "provenance": [],
      "authorship_tag": "ABX9TyMcFVgmkELVVemQGArCY9Vu",
      "include_colab_link": true
    },
    "kernelspec": {
      "display_name": "Python 3",
      "name": "python3"
    },
    "language_info": {
      "name": "python"
    }
  },
  "cells": [
    {
      "cell_type": "markdown",
      "metadata": {
        "id": "view-in-github",
        "colab_type": "text"
      },
      "source": [
        "<a href=\"https://colab.research.google.com/github/Gary345/Estrcutura-de-datos/blob/main/Tarea2.ipynb\" target=\"_parent\"><img src=\"https://colab.research.google.com/assets/colab-badge.svg\" alt=\"Open In Colab\"/></a>"
      ]
    },
    {
      "cell_type": "code",
      "metadata": {
        "id": "EvZ9gq7W_Iif"
      },
      "source": [
        "def cuentaregresiva(x):\n",
        "\n",
        "  for i  in range(x,0,-1):\n",
        "    print(i)\n",
        "  print(\"BOOOOOOMMMMMMM\")"
      ],
      "execution_count": null,
      "outputs": []
    },
    {
      "cell_type": "code",
      "metadata": {
        "colab": {
          "base_uri": "https://localhost:8080/"
        },
        "id": "JEgzxLIZARf0",
        "outputId": "80b34e53-c664-4d04-d1f8-bbf74e63739a"
      },
      "source": [
        "cuentaregresiva(40)"
      ],
      "execution_count": null,
      "outputs": [
        {
          "name": "stdout",
          "output_type": "stream",
          "text": [
            "40\n",
            "39\n",
            "38\n",
            "37\n",
            "36\n",
            "35\n",
            "34\n",
            "33\n",
            "32\n",
            "31\n",
            "30\n",
            "29\n",
            "28\n",
            "27\n",
            "26\n",
            "25\n",
            "24\n",
            "23\n",
            "22\n",
            "21\n",
            "20\n",
            "19\n",
            "18\n",
            "17\n",
            "16\n",
            "15\n",
            "14\n",
            "13\n",
            "12\n",
            "11\n",
            "10\n",
            "9\n",
            "8\n",
            "7\n",
            "6\n",
            "5\n",
            "4\n",
            "3\n",
            "2\n",
            "1\n",
            "BOOOOOOMMMMMMM\n"
          ]
        }
      ]
    },
    {
      "cell_type": "code",
      "metadata": {
        "id": "6ph2eozLBUr-"
      },
      "source": [
        "import random\n",
        "class  Array():\n",
        "  \n",
        "  def __init__(self , tamano):\n",
        "    self.__tamano = tamano\n",
        "    self.__data =[ random.randint(1, 100) for x in range(self.__tamano)]\n",
        "  def get_item(self , index):\n",
        "    return self.__data[index]\n",
        "  def to_string(self):\n",
        "    print(self.__data)\n",
        "  def suma(self):\n",
        "    suma=0\n",
        "    x=0\n",
        "    while x<len(self.__data):\n",
        "      suma=suma+self.__data[x]\n",
        "      x=x+1\n",
        "    print(suma)\n"
      ],
      "execution_count": null,
      "outputs": []
    },
    {
      "cell_type": "code",
      "metadata": {
        "colab": {
          "base_uri": "https://localhost:8080/"
        },
        "id": "VBH1HYH3HG3h",
        "outputId": "ac33b910-7d2b-4336-ead2-62ed379cae01"
      },
      "source": [
        "Suma = Array(10)\n",
        "Suma.to_string()\n",
        "Suma.suma()"
      ],
      "execution_count": 255,
      "outputs": [
        {
          "output_type": "stream",
          "name": "stdout",
          "text": [
            "[60, 29, 62, 69, 78, 99, 10, 50, 75, 27]\n",
            "559\n"
          ]
        }
      ]
    },
    {
      "cell_type": "code",
      "metadata": {
        "id": "bx4XY-zTR5xI"
      },
      "source": [
        "import random\n",
        "def lista(x):\n",
        "  A = [] \n",
        "  for i in range (x):\n",
        "       A.append(random.randint(1, 100))\n",
        "       \n",
        "  length = len(A)\n",
        "  mitad = int(length / 2)\n",
        "  print (A)\n",
        "  if (x %2==0):\n",
        "     mediana = (A[mitad-1])\n",
        "     del A[mitad-1]\n",
        "     print(mediana)\n",
        "  else:\n",
        "      mediana=(A[mitad])\n",
        "      del A[mitad]\n",
        "      print(mediana)\n",
        "  return (A)\n",
        "    "
      ],
      "execution_count": 381,
      "outputs": []
    },
    {
      "cell_type": "code",
      "metadata": {
        "colab": {
          "base_uri": "https://localhost:8080/"
        },
        "id": "ZSmuCAVQSu2D",
        "outputId": "3bad3428-4c2f-4f2a-a338-e466fdc783b9"
      },
      "source": [
        "lista(5)"
      ],
      "execution_count": 384,
      "outputs": [
        {
          "output_type": "stream",
          "name": "stdout",
          "text": [
            "[70, 81, 65, 57, 75]\n",
            "65\n"
          ]
        },
        {
          "output_type": "execute_result",
          "data": {
            "text/plain": [
              "[70, 81, 57, 75]"
            ]
          },
          "metadata": {},
          "execution_count": 384
        }
      ]
    }
  ]
}